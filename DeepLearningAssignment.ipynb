version https://git-lfs.github.com/spec/v1
oid sha256:1aee78be66bcd7685ee0eb12d479150a83a704254c720741836aa6543a74c294
size 278568433
